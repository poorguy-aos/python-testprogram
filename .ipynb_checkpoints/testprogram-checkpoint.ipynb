{
 "cells": [
  {
   "cell_type": "markdown",
   "metadata": {},
   "source": [
    "# 编程练习"
   ]
  },
  {
   "cell_type": "code",
   "execution_count": null,
   "metadata": {},
   "outputs": [],
   "source": [
    "a = \"hello, %s. %s enough for ya?\"\n",
    "values = ('world', 'Hot')\n",
    "a % values"
   ]
  },
  {
   "cell_type": "code",
   "execution_count": null,
   "metadata": {},
   "outputs": [],
   "source": [
    "table = str.maketrans('cs', 'kz')\n",
    "table\n",
    "'this is an incredible test'.translate(table)"
   ]
  },
  {
   "cell_type": "code",
   "execution_count": null,
   "metadata": {},
   "outputs": [],
   "source": [
    "people = {\n",
    "    'Alice':{\n",
    "        'phone':'2341',\n",
    "        'addr':'Foo drive 23'\n",
    "    },\n",
    "    'Beth':{\n",
    "        'phone':'9102',\n",
    "        'addr':'Bar street 42'\n",
    "    },\n",
    "    'Cecil':{\n",
    "        'phone':'3158',\n",
    "        'addr':'Baz avenue 90'\n",
    "    }\n",
    "}\n",
    "labels = {\n",
    "    'phone':'phone number',\n",
    "    'addr':'address'\n",
    "}\n",
    "name = input('Name: ')\n",
    "request = input('Phone number (p) or adress (a)?')\n",
    "if request == 'p':\n",
    "    key = 'phone'\n",
    "if request == 'a':\n",
    "    key = 'addr'\n",
    "\n",
    "if name in people:\n",
    "    print(\"{}'s {} is {}.\".format(name, labels[key], people[name][key]))"
   ]
  },
  {
   "cell_type": "code",
   "execution_count": null,
   "metadata": {},
   "outputs": [],
   "source": [
    "girls = ['alice', 'bernice', 'clarice']\n",
    "boys = ['chris', 'arnold', 'bob']\n",
    "letterGrils = {}\n",
    "for girl in girls:\n",
    "    letterGrils.setdefault(girl[0], []).append(girl)\n",
    "print([b+'+'+g for b in boys for g in letterGrils[b[0]]])"
   ]
  },
  {
   "cell_type": "code",
   "execution_count": null,
   "metadata": {},
   "outputs": [],
   "source": [
    "def Hello(greeting='Hello', name='world'):\n",
    "    print('{}, {}!'.format(greeting, name))\n",
    "params = {'name':'Sir Robin', 'greeting':'Well met'}\n",
    "Hello(**params)"
   ]
  },
  {
   "cell_type": "markdown",
   "metadata": {},
   "source": [
    "## 二分查找法"
   ]
  },
  {
   "cell_type": "code",
   "execution_count": null,
   "metadata": {},
   "outputs": [],
   "source": [
    "def Search(sequence, number, lower=0, upper=None):\n",
    "    '''二分查找法查找sequence中指定的数字\n",
    "    若sequence中不存在此数字程序将报错'''\n",
    "    if upper is None:\n",
    "        upper = len(sequence) - 1\n",
    "    if lower == upper:\n",
    "        assert number == sequence[upper]\n",
    "        return upper\n",
    "    else:\n",
    "        middle = (lower + upper) // 2\n",
    "        if number > sequence[middle]:\n",
    "            return Search(sequence, number, middle + 1, upper)\n",
    "        else:\n",
    "            return Search(sequence, number, lower, middle)\n",
    "print(Search.__doc__)\n",
    "seq = [34, 67, 8, 123, 4, 100, 95]\n",
    "seq.sort()\n",
    "print(seq)\n",
    "Search(seq, 100)"
   ]
  },
  {
   "cell_type": "code",
   "execution_count": null,
   "metadata": {},
   "outputs": [],
   "source": [
    "class Filter:\n",
    "    def init(self):\n",
    "        self.bocked = []\n",
    "    def filters(self, sequence):\n",
    "        return [x for x in sequence if x not in self.bocked]\n",
    "    \n",
    "class SPAMFilter(Filter):\n",
    "    def init(self):\n",
    "        self.bocked = ['SPAM']\n",
    "f = SPAMFilter()\n",
    "f.init()\n",
    "f.filters([1, 'SPAM', 3])"
   ]
  },
  {
   "cell_type": "code",
   "execution_count": null,
   "metadata": {},
   "outputs": [],
   "source": [
    "try:\n",
    "    x = int(input('Enter the first number: '))\n",
    "    y = int(input('Enter the second number: '))\n",
    "    print(x / y)\n",
    "except(ZeroDivisionError, TypeError) as e:\n",
    "    print(e)"
   ]
  },
  {
   "cell_type": "code",
   "execution_count": null,
   "metadata": {},
   "outputs": [],
   "source": [
    "def check_index(key):\n",
    "    if not isinstance(key, int):\n",
    "        raise TypeError\n",
    "    if key < 0:\n",
    "        raise IndexError\n",
    "class Ari:\n",
    "    def __init__(self, start=0, step=1):\n",
    "        self.start = start\n",
    "        self.step = step\n",
    "        self.changed = {}\n",
    "    def __getitem__(self, key):\n",
    "        check_index(key)\n",
    "        try:\n",
    "            return self.changed[key]\n",
    "        except KeyError:\n",
    "            return self.start + key * self.step\n",
    "    def __setitem__(self, key, value):\n",
    "        check_index(key)\n",
    "        self.changed[key] = value\n",
    "s = Ari(1,2)\n",
    "s[4]"
   ]
  },
  {
   "cell_type": "code",
   "execution_count": null,
   "metadata": {},
   "outputs": [],
   "source": [
    "class Rectangle:\n",
    "    def __init__(self):\n",
    "        self.width = 0\n",
    "        self.height = 0\n",
    "    def set_size(self, size):\n",
    "        self.width, self.height = size\n",
    "    def get_size(self):\n",
    "        return self.width, self.height\n",
    "    size = property(get_size, set_size)\n",
    "    \n",
    "r = Rectangle()\n",
    "r.width = 10\n",
    "r.height = 5\n",
    "r.size\n",
    "print(r.size)"
   ]
  },
  {
   "cell_type": "code",
   "execution_count": null,
   "metadata": {},
   "outputs": [],
   "source": [
    "values = list(range(1, 11)) + 'Jack Queen King'.split()\n",
    "suits = 'diamonds clubs hearts spades'.split()\n",
    "deck = ['{} of {}'.format(v, s) for v in values for s in suits]\n",
    "from random import shuffle\n",
    "shuffle(deck)\n",
    "while deck:\n",
    "    input(deck.pop())"
   ]
  },
  {
   "cell_type": "code",
   "execution_count": null,
   "metadata": {},
   "outputs": [],
   "source": [
    "t = [1,2,3]\n",
    "t1 = int(1)\n",
    "t[t1]"
   ]
  },
  {
   "cell_type": "markdown",
   "metadata": {},
   "source": [
    "# A try to statistic trees of different weight "
   ]
  },
  {
   "cell_type": "code",
   "execution_count": null,
   "metadata": {},
   "outputs": [],
   "source": [
    "with open('trees-data.txt', 'a+') as test_data:\n",
    "    temp = test_data.readlines()\n",
    "#     temp = temp[-1].split(',')\n",
    "    if True:\n",
    "        temp[3] = str(int(temp[3]) + 1)\n",
    "    test_data.seek(0)\n",
    "    test_data.writelines(','.join(temp))\n"
   ]
  },
  {
   "cell_type": "code",
   "execution_count": 1,
   "metadata": {},
   "outputs": [],
   "source": [
    "class ColorWeight:\n",
    "    '''颜色权重，用于显色定义权重'''\n",
    "    def __init__(self):\n",
    "        self.weight = 1\n",
    "        self.trees = 0\n",
    "        self.combos = None\n",
    "    def Combos_Weeks(self, days=None):\n",
    "        '''连续坚持额外奖励tree\n",
    "        此处改为返回连续天数更为合适'''\n",
    "        with open('trees-data.txt', 'r') as data:\n",
    "            combos = data.readlines()[-1].split(',')\n",
    "            if days == 7:\n",
    "                combos[self.number] = str(int(combos[self.number]) + 1)\n",
    "                self.combos = combos\n",
    "                return int(combos[self.number])\n",
    "            else:\n",
    "                combos[self.number] = '0'\n",
    "                self.combos = combos\n",
    "                return 0\n",
    "        \n",
    "    def obtain_trees(self, days):\n",
    "        '''calculate the number of trees'''\n",
    "        tree = self.weight - (7 - days)\n",
    "        if tree <= 0:\n",
    "            tree = 0\n",
    "        return tree\n",
    "    \n",
    "    def reward_trees(self, days):\n",
    "        '''you must rewrite this function!'''\n",
    "        return 0\n",
    "    \n",
    "    def calculate_tree(self, days):\n",
    "        self.trees = self.obtain_trees(days) + self.reward_trees(days)\n",
    "        with open('trees-data.txt', 'a') as data:\n",
    "            self.combos[0] = str(int(self.combos[0]) + self.trees)\n",
    "            data.writelines(','.join(self.combos))\n",
    "        return self.trees\n",
    "\n",
    "class BlueWeight(ColorWeight):\n",
    "    def __init__(self, number=-2):\n",
    "        super().__init__()\n",
    "        self.weight = 1\n",
    "        self.number = number\n",
    "        self.reward_weight = [0, 1, 2, 4, 7, 11, 16]\n",
    "        if number == -2:\n",
    "            raise 'you must give squence number!'\n",
    "    def reward_trees(self, days):\n",
    "        temp = self.Combos_Weeks(days)\n",
    "        if temp-1 >= 5:\n",
    "            return 10\n",
    "        elif temp == 0:\n",
    "            return 0\n",
    "        else:\n",
    "            return self.reward_weight[temp-1]\n",
    "\n",
    "\n",
    "class Yellow_Weiht(ColorWeight):\n",
    "    def __init__(self, number=-2):\n",
    "        super().__init__()\n",
    "        self.weight = 4\n",
    "        self.number = number\n",
    "        if number == -2:\n",
    "            raise 'you must give squence number!'\n",
    "    def reward_trees(self, days):\n",
    "        temp = self.Combos_Weeks(days)\n",
    "        if temp <= 1:\n",
    "            return 0\n",
    "        elif 2 ** (temp - 1) >= 10:\n",
    "            return 10\n",
    "        else:\n",
    "            return 2 ** (temp -1)\n",
    "\n",
    "class Red_Weight(ColorWeight):\n",
    "    '''Red_Weight too complex still wait to finish'''\n",
    "    def __init__(self, number=-2):\n",
    "        super().__init__()\n",
    "        self.weight = 6\n",
    "        self.number = number\n",
    "        if number == -2:\n",
    "            raise 'you must give squence number!'\n",
    "    def reward_trees(self, days):\n",
    "        pass"
   ]
  },
  {
   "cell_type": "code",
   "execution_count": 2,
   "metadata": {},
   "outputs": [
    {
     "ename": "IndexError",
     "evalue": "list assignment index out of range",
     "output_type": "error",
     "traceback": [
      "\u001b[0;31m---------------------------------------------------------------------------\u001b[0m",
      "\u001b[0;31mIndexError\u001b[0m                                Traceback (most recent call last)",
      "\u001b[0;32m<ipython-input-2-be57add76818>\u001b[0m in \u001b[0;36m<module>\u001b[0;34m()\u001b[0m\n\u001b[1;32m      5\u001b[0m \u001b[0mgb\u001b[0m \u001b[0;34m=\u001b[0m \u001b[0mYellow_Weiht\u001b[0m\u001b[0;34m(\u001b[0m\u001b[0;36m5\u001b[0m\u001b[0;34m)\u001b[0m\u001b[0;34m\u001b[0m\u001b[0m\n\u001b[1;32m      6\u001b[0m \u001b[0;34m\u001b[0m\u001b[0m\n\u001b[0;32m----> 7\u001b[0;31m \u001b[0mtree1\u001b[0m \u001b[0;34m=\u001b[0m \u001b[0mge\u001b[0m\u001b[0;34m.\u001b[0m\u001b[0mcalculate_tree\u001b[0m\u001b[0;34m(\u001b[0m\u001b[0;36m3\u001b[0m\u001b[0;34m)\u001b[0m\u001b[0;34m\u001b[0m\u001b[0m\n\u001b[0m\u001b[1;32m      8\u001b[0m \u001b[0mtree2\u001b[0m \u001b[0;34m=\u001b[0m \u001b[0mhb\u001b[0m\u001b[0;34m.\u001b[0m\u001b[0mcalculate_tree\u001b[0m\u001b[0;34m(\u001b[0m\u001b[0;36m7\u001b[0m\u001b[0;34m)\u001b[0m\u001b[0;34m\u001b[0m\u001b[0m\n\u001b[1;32m      9\u001b[0m \u001b[0mtree3\u001b[0m \u001b[0;34m=\u001b[0m \u001b[0mbt\u001b[0m\u001b[0;34m.\u001b[0m\u001b[0mcalculate_tree\u001b[0m\u001b[0;34m(\u001b[0m\u001b[0;36m7\u001b[0m\u001b[0;34m)\u001b[0m\u001b[0;34m\u001b[0m\u001b[0m\n",
      "\u001b[0;32m<ipython-input-1-c97bb6f704ee>\u001b[0m in \u001b[0;36mcalculate_tree\u001b[0;34m(self, days)\u001b[0m\n\u001b[1;32m     31\u001b[0m \u001b[0;34m\u001b[0m\u001b[0m\n\u001b[1;32m     32\u001b[0m     \u001b[0;32mdef\u001b[0m \u001b[0mcalculate_tree\u001b[0m\u001b[0;34m(\u001b[0m\u001b[0mself\u001b[0m\u001b[0;34m,\u001b[0m \u001b[0mdays\u001b[0m\u001b[0;34m)\u001b[0m\u001b[0;34m:\u001b[0m\u001b[0;34m\u001b[0m\u001b[0m\n\u001b[0;32m---> 33\u001b[0;31m         \u001b[0mself\u001b[0m\u001b[0;34m.\u001b[0m\u001b[0mtrees\u001b[0m \u001b[0;34m=\u001b[0m \u001b[0mself\u001b[0m\u001b[0;34m.\u001b[0m\u001b[0mobtain_trees\u001b[0m\u001b[0;34m(\u001b[0m\u001b[0mdays\u001b[0m\u001b[0;34m)\u001b[0m \u001b[0;34m+\u001b[0m \u001b[0mself\u001b[0m\u001b[0;34m.\u001b[0m\u001b[0mreward_trees\u001b[0m\u001b[0;34m(\u001b[0m\u001b[0mdays\u001b[0m\u001b[0;34m)\u001b[0m\u001b[0;34m\u001b[0m\u001b[0m\n\u001b[0m\u001b[1;32m     34\u001b[0m         \u001b[0;32mwith\u001b[0m \u001b[0mopen\u001b[0m\u001b[0;34m(\u001b[0m\u001b[0;34m'trees-data.txt'\u001b[0m\u001b[0;34m,\u001b[0m \u001b[0;34m'a'\u001b[0m\u001b[0;34m)\u001b[0m \u001b[0;32mas\u001b[0m \u001b[0mdata\u001b[0m\u001b[0;34m:\u001b[0m\u001b[0;34m\u001b[0m\u001b[0m\n\u001b[1;32m     35\u001b[0m             \u001b[0mself\u001b[0m\u001b[0;34m.\u001b[0m\u001b[0mcombos\u001b[0m\u001b[0;34m[\u001b[0m\u001b[0;36m0\u001b[0m\u001b[0;34m]\u001b[0m \u001b[0;34m=\u001b[0m \u001b[0mstr\u001b[0m\u001b[0;34m(\u001b[0m\u001b[0mint\u001b[0m\u001b[0;34m(\u001b[0m\u001b[0mself\u001b[0m\u001b[0;34m.\u001b[0m\u001b[0mcombos\u001b[0m\u001b[0;34m[\u001b[0m\u001b[0;36m0\u001b[0m\u001b[0;34m]\u001b[0m\u001b[0;34m)\u001b[0m \u001b[0;34m+\u001b[0m \u001b[0mself\u001b[0m\u001b[0;34m.\u001b[0m\u001b[0mtrees\u001b[0m\u001b[0;34m)\u001b[0m\u001b[0;34m\u001b[0m\u001b[0m\n",
      "\u001b[0;32m<ipython-input-1-c97bb6f704ee>\u001b[0m in \u001b[0;36mreward_trees\u001b[0;34m(self, days)\u001b[0m\n\u001b[1;32m     63\u001b[0m             \u001b[0;32mraise\u001b[0m \u001b[0;34m'you must give squence number!'\u001b[0m\u001b[0;34m\u001b[0m\u001b[0m\n\u001b[1;32m     64\u001b[0m     \u001b[0;32mdef\u001b[0m \u001b[0mreward_trees\u001b[0m\u001b[0;34m(\u001b[0m\u001b[0mself\u001b[0m\u001b[0;34m,\u001b[0m \u001b[0mdays\u001b[0m\u001b[0;34m)\u001b[0m\u001b[0;34m:\u001b[0m\u001b[0;34m\u001b[0m\u001b[0m\n\u001b[0;32m---> 65\u001b[0;31m         \u001b[0mtemp\u001b[0m \u001b[0;34m=\u001b[0m \u001b[0mself\u001b[0m\u001b[0;34m.\u001b[0m\u001b[0mCombos_Weeks\u001b[0m\u001b[0;34m(\u001b[0m\u001b[0mdays\u001b[0m\u001b[0;34m)\u001b[0m\u001b[0;34m\u001b[0m\u001b[0m\n\u001b[0m\u001b[1;32m     66\u001b[0m         \u001b[0;32mif\u001b[0m \u001b[0mtemp\u001b[0m \u001b[0;34m<=\u001b[0m \u001b[0;36m1\u001b[0m\u001b[0;34m:\u001b[0m\u001b[0;34m\u001b[0m\u001b[0m\n\u001b[1;32m     67\u001b[0m             \u001b[0;32mreturn\u001b[0m \u001b[0;36m0\u001b[0m\u001b[0;34m\u001b[0m\u001b[0m\n",
      "\u001b[0;32m<ipython-input-1-c97bb6f704ee>\u001b[0m in \u001b[0;36mCombos_Weeks\u001b[0;34m(self, days)\u001b[0m\n\u001b[1;32m     15\u001b[0m                 \u001b[0;32mreturn\u001b[0m \u001b[0mint\u001b[0m\u001b[0;34m(\u001b[0m\u001b[0mcombos\u001b[0m\u001b[0;34m[\u001b[0m\u001b[0mself\u001b[0m\u001b[0;34m.\u001b[0m\u001b[0mnumber\u001b[0m\u001b[0;34m]\u001b[0m\u001b[0;34m)\u001b[0m\u001b[0;34m\u001b[0m\u001b[0m\n\u001b[1;32m     16\u001b[0m             \u001b[0;32melse\u001b[0m\u001b[0;34m:\u001b[0m\u001b[0;34m\u001b[0m\u001b[0m\n\u001b[0;32m---> 17\u001b[0;31m                 \u001b[0mcombos\u001b[0m\u001b[0;34m[\u001b[0m\u001b[0mself\u001b[0m\u001b[0;34m.\u001b[0m\u001b[0mnumber\u001b[0m\u001b[0;34m]\u001b[0m \u001b[0;34m=\u001b[0m \u001b[0;34m'0'\u001b[0m\u001b[0;34m\u001b[0m\u001b[0m\n\u001b[0m\u001b[1;32m     18\u001b[0m                 \u001b[0mself\u001b[0m\u001b[0;34m.\u001b[0m\u001b[0mcombos\u001b[0m \u001b[0;34m=\u001b[0m \u001b[0mcombos\u001b[0m\u001b[0;34m\u001b[0m\u001b[0m\n\u001b[1;32m     19\u001b[0m                 \u001b[0;32mreturn\u001b[0m \u001b[0;36m0\u001b[0m\u001b[0;34m\u001b[0m\u001b[0m\n",
      "\u001b[0;31mIndexError\u001b[0m: list assignment index out of range"
     ]
    }
   ],
   "source": [
    "ge = Yellow_Weiht(1)\n",
    "hb = BlueWeight(2)\n",
    "bt = BlueWeight(3)\n",
    "ml = BlueWeight(4)\n",
    "gb = Yellow_Weiht(5)\n",
    "\n",
    "tree1 = ge.calculate_tree(3)\n",
    "tree2 = hb.calculate_tree(7)\n",
    "tree3 = bt.calculate_tree(7)\n",
    "tree4 = ml.calculate_tree(7)\n",
    "tree5 = gb.calculate_tree(7)\n",
    "\n",
    "all_add = [tree1,tree2,tree3,tree4,tree5]\n",
    "print(all_add)\n",
    "final_trees = sum(all_add) + 6 - 30\n",
    "with open('trees-data.txt', 'r') as data:\n",
    "    temp = data.readlines()[-1].split(',')\n",
    "    temp[0] = str(int(temp[0]) + final_trees)\n",
    "    print(','.join(temp))\n",
    "with open('trees-data.txt', 'a') as data:\n",
    "    data.writelines(','.join(temp))"
   ]
  }
 ],
 "metadata": {
  "kernelspec": {
   "display_name": "Python 3",
   "language": "python",
   "name": "python3"
  },
  "language_info": {
   "codemirror_mode": {
    "name": "ipython",
    "version": 3
   },
   "file_extension": ".py",
   "mimetype": "text/x-python",
   "name": "python",
   "nbconvert_exporter": "python",
   "pygments_lexer": "ipython3",
   "version": "3.6.4"
  },
  "toc": {
   "base_numbering": 1,
   "nav_menu": {},
   "number_sections": true,
   "sideBar": true,
   "skip_h1_title": false,
   "title_cell": "Table of Contents",
   "title_sidebar": "Contents",
   "toc_cell": false,
   "toc_position": {},
   "toc_section_display": true,
   "toc_window_display": false
  },
  "varInspector": {
   "cols": {
    "lenName": 16,
    "lenType": 16,
    "lenVar": 40
   },
   "kernels_config": {
    "python": {
     "delete_cmd_postfix": "",
     "delete_cmd_prefix": "del ",
     "library": "var_list.py",
     "varRefreshCmd": "print(var_dic_list())"
    },
    "r": {
     "delete_cmd_postfix": ") ",
     "delete_cmd_prefix": "rm(",
     "library": "var_list.r",
     "varRefreshCmd": "cat(var_dic_list()) "
    }
   },
   "position": {
    "height": "177px",
    "left": "549px",
    "right": "20px",
    "top": "43px",
    "width": "441px"
   },
   "types_to_exclude": [
    "module",
    "function",
    "builtin_function_or_method",
    "instance",
    "_Feature"
   ],
   "window_display": false
  }
 },
 "nbformat": 4,
 "nbformat_minor": 2
}
