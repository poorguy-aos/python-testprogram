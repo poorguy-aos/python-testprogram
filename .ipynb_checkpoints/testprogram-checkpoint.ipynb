{
 "cells": [
  {
   "cell_type": "markdown",
   "metadata": {},
   "source": [
    "# 编程练习"
   ]
  },
  {
   "cell_type": "code",
   "execution_count": null,
   "metadata": {},
   "outputs": [],
   "source": [
    "a = \"hello, %s. %s enough for ya?\"\n",
    "values = ('world', 'Hot')\n",
    "a % values"
   ]
  },
  {
   "cell_type": "code",
   "execution_count": null,
   "metadata": {},
   "outputs": [],
   "source": [
    "table = str.maketrans('cs', 'kz')\n",
    "table\n",
    "'this is an incredible test'.translate(table)"
   ]
  },
  {
   "cell_type": "code",
   "execution_count": null,
   "metadata": {},
   "outputs": [],
   "source": [
    "people = {\n",
    "    'Alice':{\n",
    "        'phone':'2341',\n",
    "        'addr':'Foo drive 23'\n",
    "    },\n",
    "    'Beth':{\n",
    "        'phone':'9102',\n",
    "        'addr':'Bar street 42'\n",
    "    },\n",
    "    'Cecil':{\n",
    "        'phone':'3158',\n",
    "        'addr':'Baz avenue 90'\n",
    "    }\n",
    "}\n",
    "labels = {\n",
    "    'phone':'phone number',\n",
    "    'addr':'address'\n",
    "}\n",
    "name = input('Name: ')\n",
    "request = input('Phone number (p) or adress (a)?')\n",
    "if request == 'p':\n",
    "    key = 'phone'\n",
    "if request == 'a':\n",
    "    key = 'addr'\n",
    "\n",
    "if name in people:\n",
    "    print(\"{}'s {} is {}.\".format(name, labels[key], people[name][key]))"
   ]
  },
  {
   "cell_type": "code",
   "execution_count": null,
   "metadata": {},
   "outputs": [],
   "source": [
    "girls = ['alice', 'bernice', 'clarice']\n",
    "boys = ['chris', 'arnold', 'bob']\n",
    "letterGrils = {}\n",
    "for girl in girls:\n",
    "    letterGrils.setdefault(girl[0], []).append(girl)\n",
    "print([b+'+'+g for b in boys for g in letterGrils[b[0]]])"
   ]
  },
  {
   "cell_type": "code",
   "execution_count": null,
   "metadata": {},
   "outputs": [],
   "source": [
    "def Hello(greeting='Hello', name='world'):\n",
    "    print('{}, {}!'.format(greeting, name))\n",
    "params = {'name':'Sir Robin', 'greeting':'Well met'}\n",
    "Hello(**params)"
   ]
  },
  {
   "cell_type": "markdown",
   "metadata": {},
   "source": [
    "## 二分查找法"
   ]
  },
  {
   "cell_type": "code",
   "execution_count": null,
   "metadata": {},
   "outputs": [],
   "source": [
    "def Search(sequence, number, lower=0, upper=None):\n",
    "    '''二分查找法查找sequence中指定的数字\n",
    "    若sequence中不存在此数字程序将报错'''\n",
    "    if upper is None:\n",
    "        upper = len(sequence) - 1\n",
    "    if lower == upper:\n",
    "        assert number == sequence[upper]\n",
    "        return upper\n",
    "    else:\n",
    "        middle = (lower + upper) // 2\n",
    "        if number > sequence[middle]:\n",
    "            return Search(sequence, number, middle + 1, upper)\n",
    "        else:\n",
    "            return Search(sequence, number, lower, middle)\n",
    "print(Search.__doc__)\n",
    "seq = [34, 67, 8, 123, 4, 100, 95]\n",
    "seq.sort()\n",
    "print(seq)\n",
    "Search(seq, 100)"
   ]
  },
  {
   "cell_type": "code",
   "execution_count": null,
   "metadata": {},
   "outputs": [],
   "source": [
    "class Filter:\n",
    "    def init(self):\n",
    "        self.bocked = []\n",
    "    def filters(self, sequence):\n",
    "        return [x for x in sequence if x not in self.bocked]\n",
    "    \n",
    "class SPAMFilter(Filter):\n",
    "    def init(self):\n",
    "        self.bocked = ['SPAM']\n",
    "f = SPAMFilter()\n",
    "f.init()\n",
    "f.filters([1, 'SPAM', 3])"
   ]
  },
  {
   "cell_type": "code",
   "execution_count": null,
   "metadata": {},
   "outputs": [],
   "source": [
    "try:\n",
    "    x = int(input('Enter the first number: '))\n",
    "    y = int(input('Enter the second number: '))\n",
    "    print(x / y)\n",
    "except(ZeroDivisionError, TypeError) as e:\n",
    "    print(e)"
   ]
  },
  {
   "cell_type": "code",
   "execution_count": null,
   "metadata": {},
   "outputs": [],
   "source": [
    "def check_index(key):\n",
    "    if not isinstance(key, int):\n",
    "        raise TypeError\n",
    "    if key < 0:\n",
    "        raise IndexError\n",
    "class Ari:\n",
    "    def __init__(self, start=0, step=1):\n",
    "        self.start = start\n",
    "        self.step = step\n",
    "        self.changed = {}\n",
    "    def __getitem__(self, key):\n",
    "        check_index(key)\n",
    "        try:\n",
    "            return self.changed[key]\n",
    "        except KeyError:\n",
    "            return self.start + key * self.step\n",
    "    def __setitem__(self, key, value):\n",
    "        check_index(key)\n",
    "        self.changed[key] = value\n",
    "s = Ari(1,2)\n",
    "s[4]"
   ]
  },
  {
   "cell_type": "code",
   "execution_count": null,
   "metadata": {},
   "outputs": [],
   "source": [
    "class Rectangle:\n",
    "    def __init__(self):\n",
    "        self.width = 0\n",
    "        self.height = 0\n",
    "    def set_size(self, size):\n",
    "        self.width, self.height = size\n",
    "    def get_size(self):\n",
    "        return self.width, self.height\n",
    "    size = property(get_size, set_size)\n",
    "    \n",
    "r = Rectangle()\n",
    "r.width = 10\n",
    "r.height = 5\n",
    "r.size\n",
    "print(r.size)"
   ]
  },
  {
   "cell_type": "code",
   "execution_count": null,
   "metadata": {},
   "outputs": [],
   "source": [
    "values = list(range(1, 11)) + 'Jack Queen King'.split()\n",
    "suits = 'diamonds clubs hearts spades'.split()\n",
    "deck = ['{} of {}'.format(v, s) for v in values for s in suits]\n",
    "from random import shuffle\n",
    "shuffle(deck)\n",
    "while deck:\n",
    "    input(deck.pop())"
   ]
  },
  {
   "cell_type": "code",
   "execution_count": null,
   "metadata": {},
   "outputs": [],
   "source": []
  },
  {
   "cell_type": "markdown",
   "metadata": {},
   "source": [
    "# A try to statistic trees of different weight "
   ]
  },
  {
   "cell_type": "code",
   "execution_count": null,
   "metadata": {},
   "outputs": [],
   "source": [
    "import shelve\n"
   ]
  },
  {
   "cell_type": "code",
   "execution_count": 1,
   "metadata": {},
   "outputs": [],
   "source": [
    "class ColorWeight:\n",
    "    '''颜色权重，用于显色定义权重'''\n",
    "    def __init__(self):\n",
    "        self.weight = 1\n",
    "    def reward_tree(self, days):\n",
    "        '''连续坚持额外奖励tree'''\n",
    "        with open('trees-data.txt', 'r') as data:\n",
    "            temp = data.readline()\n",
    "        \n",
    "    def calculate_tree(self, days):\n",
    "        '''calculate the number of trees'''\n",
    "        self.tree = self.weight - (7 - days)\n",
    "        if self.tree <= 0:\n",
    "            sefl.tree = 0\n",
    "        self.tree += reward_tree(days)"
   ]
  }
 ],
 "metadata": {
  "kernelspec": {
   "display_name": "Python 3",
   "language": "python",
   "name": "python3"
  },
  "language_info": {
   "codemirror_mode": {
    "name": "ipython",
    "version": 3
   },
   "file_extension": ".py",
   "mimetype": "text/x-python",
   "name": "python",
   "nbconvert_exporter": "python",
   "pygments_lexer": "ipython3",
   "version": "3.6.4"
  },
  "toc": {
   "base_numbering": 1,
   "nav_menu": {},
   "number_sections": true,
   "sideBar": true,
   "skip_h1_title": false,
   "title_cell": "Table of Contents",
   "title_sidebar": "Contents",
   "toc_cell": false,
   "toc_position": {},
   "toc_section_display": true,
   "toc_window_display": false
  },
  "varInspector": {
   "cols": {
    "lenName": 16,
    "lenType": 16,
    "lenVar": 40
   },
   "kernels_config": {
    "python": {
     "delete_cmd_postfix": "",
     "delete_cmd_prefix": "del ",
     "library": "var_list.py",
     "varRefreshCmd": "print(var_dic_list())"
    },
    "r": {
     "delete_cmd_postfix": ") ",
     "delete_cmd_prefix": "rm(",
     "library": "var_list.r",
     "varRefreshCmd": "cat(var_dic_list()) "
    }
   },
   "position": {
    "height": "177px",
    "left": "829px",
    "right": "20px",
    "top": "123px",
    "width": "441px"
   },
   "types_to_exclude": [
    "module",
    "function",
    "builtin_function_or_method",
    "instance",
    "_Feature"
   ],
   "window_display": false
  }
 },
 "nbformat": 4,
 "nbformat_minor": 2
}
